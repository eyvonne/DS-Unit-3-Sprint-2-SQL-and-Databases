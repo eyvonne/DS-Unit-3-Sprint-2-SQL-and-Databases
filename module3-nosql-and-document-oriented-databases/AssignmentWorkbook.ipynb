{
 "cells": [
  {
   "cell_type": "code",
   "execution_count": 1,
   "metadata": {},
   "outputs": [],
   "source": [
    "import sqlite3"
   ]
  },
  {
   "cell_type": "code",
   "execution_count": 2,
   "metadata": {},
   "outputs": [],
   "source": [
    "from query import *"
   ]
  },
  {
   "cell_type": "code",
   "execution_count": 3,
   "metadata": {},
   "outputs": [
    {
     "data": {
      "text/plain": [
       "(1, 'Aliquid iste optio reiciendi', 0, 0, 10, 1, 1, 1, 1)"
      ]
     },
     "execution_count": 3,
     "metadata": {},
     "output_type": "execute_result"
    }
   ],
   "source": [
    "slqueryone('SELECT * FROM charactercreator_character')"
   ]
  },
  {
   "cell_type": "code",
   "execution_count": 5,
   "metadata": {},
   "outputs": [],
   "source": [
    "chars=slqueryall('SELECT * FROM charactercreator_character')"
   ]
  },
  {
   "cell_type": "code",
   "execution_count": 12,
   "metadata": {},
   "outputs": [
    {
     "name": "stdout",
     "output_type": "stream",
     "text": [
      "{'sql_id': 2, 'name': 'Optio dolorem ex a', 'level': 0, 'exp': 0, 'hp': 10, 'strength': 1, 'intelligence': 1, 'dexterity': 1, 'wisdom': 1}\n"
     ]
    }
   ],
   "source": [
    "charDocs=[]\n",
    "for char in chars:\n",
    "    chardict={}\n",
    "    for i, col in enumerate(cols):\n",
    "        chardict[col]=char[i]\n",
    "    charDocs.append(chardict)\n",
    "print(charDocs[1])"
   ]
  },
  {
   "cell_type": "code",
   "execution_count": 11,
   "metadata": {},
   "outputs": [
    {
     "name": "stdout",
     "output_type": "stream",
     "text": [
      "sql_id\n",
      "name\n",
      "level\n",
      "exp\n",
      "hp\n",
      "strength\n",
      "intelligence\n",
      "dexterity\n",
      "wisdom\n"
     ]
    }
   ],
   "source": [
    "cols=['sql_id','name','level','exp','hp','strength','intelligence','dexterity','wisdom']\n",
    "\n",
    "for i, col in enumerate(cols):\n",
    "    print(col)\n"
   ]
  },
  {
   "cell_type": "code",
   "execution_count": null,
   "metadata": {},
   "outputs": [],
   "source": []
  }
 ],
 "metadata": {
  "kernelspec": {
   "display_name": "Python 3",
   "language": "python",
   "name": "python3"
  },
  "language_info": {
   "codemirror_mode": {
    "name": "ipython",
    "version": 3
   },
   "file_extension": ".py",
   "mimetype": "text/x-python",
   "name": "python",
   "nbconvert_exporter": "python",
   "pygments_lexer": "ipython3",
   "version": "3.7.3"
  }
 },
 "nbformat": 4,
 "nbformat_minor": 4
}
